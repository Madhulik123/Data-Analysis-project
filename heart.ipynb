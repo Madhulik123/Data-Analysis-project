{
  "cells": [
    {
      "cell_type": "markdown",
      "metadata": {
        "id": "view-in-github",
        "colab_type": "text"
      },
      "source": [
        "<a href=\"https://colab.research.google.com/github/Madhulik123/Data-Analysis-project/blob/main/heart.ipynb\" target=\"_parent\"><img src=\"https://colab.research.google.com/assets/colab-badge.svg\" alt=\"Open In Colab\"/></a>"
      ]
    },
    {
      "cell_type": "code",
      "execution_count": 1,
      "id": "364c8277",
      "metadata": {
        "id": "364c8277"
      },
      "outputs": [],
      "source": [
        "import pandas as pd\n",
        "import numpy as np"
      ]
    },
    {
      "cell_type": "code",
      "execution_count": 3,
      "id": "4edbdf2f",
      "metadata": {
        "id": "4edbdf2f"
      },
      "outputs": [],
      "source": [
        "df=pd.read_csv(\"Medicaldataset.csv\")"
      ]
    },
    {
      "cell_type": "code",
      "execution_count": 4,
      "id": "c8fc0dbe",
      "metadata": {
        "colab": {
          "base_uri": "https://localhost:8080/"
        },
        "id": "c8fc0dbe",
        "outputId": "4d391009-cdbb-4a87-e506-ea1317b7ebe6"
      },
      "outputs": [
        {
          "output_type": "execute_result",
          "data": {
            "text/plain": [
              "(1319, 9)"
            ]
          },
          "metadata": {},
          "execution_count": 4
        }
      ],
      "source": [
        "#shape of the dataset\n",
        "df.shape"
      ]
    },
    {
      "cell_type": "code",
      "execution_count": 5,
      "id": "0bff15af",
      "metadata": {
        "colab": {
          "base_uri": "https://localhost:8080/",
          "height": 366
        },
        "id": "0bff15af",
        "outputId": "4f5dfdf0-ccb7-46bb-bb2d-a383eeae3fe5"
      },
      "outputs": [
        {
          "output_type": "execute_result",
          "data": {
            "text/plain": [
              "Age                           int64\n",
              "Gender                        int64\n",
              "Heart rate                    int64\n",
              "Systolic blood pressure       int64\n",
              "Diastolic blood pressure      int64\n",
              "Blood sugar                 float64\n",
              "CK-MB                       float64\n",
              "Troponin                    float64\n",
              "Result                       object\n",
              "dtype: object"
            ],
            "text/html": [
              "<div>\n",
              "<style scoped>\n",
              "    .dataframe tbody tr th:only-of-type {\n",
              "        vertical-align: middle;\n",
              "    }\n",
              "\n",
              "    .dataframe tbody tr th {\n",
              "        vertical-align: top;\n",
              "    }\n",
              "\n",
              "    .dataframe thead th {\n",
              "        text-align: right;\n",
              "    }\n",
              "</style>\n",
              "<table border=\"1\" class=\"dataframe\">\n",
              "  <thead>\n",
              "    <tr style=\"text-align: right;\">\n",
              "      <th></th>\n",
              "      <th>0</th>\n",
              "    </tr>\n",
              "  </thead>\n",
              "  <tbody>\n",
              "    <tr>\n",
              "      <th>Age</th>\n",
              "      <td>int64</td>\n",
              "    </tr>\n",
              "    <tr>\n",
              "      <th>Gender</th>\n",
              "      <td>int64</td>\n",
              "    </tr>\n",
              "    <tr>\n",
              "      <th>Heart rate</th>\n",
              "      <td>int64</td>\n",
              "    </tr>\n",
              "    <tr>\n",
              "      <th>Systolic blood pressure</th>\n",
              "      <td>int64</td>\n",
              "    </tr>\n",
              "    <tr>\n",
              "      <th>Diastolic blood pressure</th>\n",
              "      <td>int64</td>\n",
              "    </tr>\n",
              "    <tr>\n",
              "      <th>Blood sugar</th>\n",
              "      <td>float64</td>\n",
              "    </tr>\n",
              "    <tr>\n",
              "      <th>CK-MB</th>\n",
              "      <td>float64</td>\n",
              "    </tr>\n",
              "    <tr>\n",
              "      <th>Troponin</th>\n",
              "      <td>float64</td>\n",
              "    </tr>\n",
              "    <tr>\n",
              "      <th>Result</th>\n",
              "      <td>object</td>\n",
              "    </tr>\n",
              "  </tbody>\n",
              "</table>\n",
              "</div><br><label><b>dtype:</b> object</label>"
            ]
          },
          "metadata": {},
          "execution_count": 5
        }
      ],
      "source": [
        "# Datatype of each column in dataframe\n",
        "df.dtypes"
      ]
    },
    {
      "cell_type": "code",
      "execution_count": 6,
      "id": "fa0b7059",
      "metadata": {
        "colab": {
          "base_uri": "https://localhost:8080/",
          "height": 366
        },
        "id": "fa0b7059",
        "outputId": "130a0f74-84a5-4600-ff65-d0cb4113ed2d"
      },
      "outputs": [
        {
          "output_type": "execute_result",
          "data": {
            "text/plain": [
              "Age                         0\n",
              "Gender                      0\n",
              "Heart rate                  0\n",
              "Systolic blood pressure     0\n",
              "Diastolic blood pressure    0\n",
              "Blood sugar                 0\n",
              "CK-MB                       0\n",
              "Troponin                    0\n",
              "Result                      0\n",
              "dtype: int64"
            ],
            "text/html": [
              "<div>\n",
              "<style scoped>\n",
              "    .dataframe tbody tr th:only-of-type {\n",
              "        vertical-align: middle;\n",
              "    }\n",
              "\n",
              "    .dataframe tbody tr th {\n",
              "        vertical-align: top;\n",
              "    }\n",
              "\n",
              "    .dataframe thead th {\n",
              "        text-align: right;\n",
              "    }\n",
              "</style>\n",
              "<table border=\"1\" class=\"dataframe\">\n",
              "  <thead>\n",
              "    <tr style=\"text-align: right;\">\n",
              "      <th></th>\n",
              "      <th>0</th>\n",
              "    </tr>\n",
              "  </thead>\n",
              "  <tbody>\n",
              "    <tr>\n",
              "      <th>Age</th>\n",
              "      <td>0</td>\n",
              "    </tr>\n",
              "    <tr>\n",
              "      <th>Gender</th>\n",
              "      <td>0</td>\n",
              "    </tr>\n",
              "    <tr>\n",
              "      <th>Heart rate</th>\n",
              "      <td>0</td>\n",
              "    </tr>\n",
              "    <tr>\n",
              "      <th>Systolic blood pressure</th>\n",
              "      <td>0</td>\n",
              "    </tr>\n",
              "    <tr>\n",
              "      <th>Diastolic blood pressure</th>\n",
              "      <td>0</td>\n",
              "    </tr>\n",
              "    <tr>\n",
              "      <th>Blood sugar</th>\n",
              "      <td>0</td>\n",
              "    </tr>\n",
              "    <tr>\n",
              "      <th>CK-MB</th>\n",
              "      <td>0</td>\n",
              "    </tr>\n",
              "    <tr>\n",
              "      <th>Troponin</th>\n",
              "      <td>0</td>\n",
              "    </tr>\n",
              "    <tr>\n",
              "      <th>Result</th>\n",
              "      <td>0</td>\n",
              "    </tr>\n",
              "  </tbody>\n",
              "</table>\n",
              "</div><br><label><b>dtype:</b> int64</label>"
            ]
          },
          "metadata": {},
          "execution_count": 6
        }
      ],
      "source": [
        "#Data Cleaning Steps\n",
        "# Missing value detection\n",
        "df.isna().sum()"
      ]
    },
    {
      "cell_type": "markdown",
      "id": "9dad470f",
      "metadata": {
        "id": "9dad470f"
      },
      "source": [
        "#There is no need to deal with data missing as there is no missing data."
      ]
    },
    {
      "cell_type": "code",
      "execution_count": 7,
      "id": "818d0c1f",
      "metadata": {
        "colab": {
          "base_uri": "https://localhost:8080/"
        },
        "id": "818d0c1f",
        "outputId": "61a6c1be-ee0e-4171-85d1-5ef57da0229d"
      },
      "outputs": [
        {
          "output_type": "stream",
          "name": "stdout",
          "text": [
            "Age                         0.0\n",
            "Gender                      0.0\n",
            "Heart rate                  0.0\n",
            "Systolic blood pressure     0.0\n",
            "Diastolic blood pressure    0.0\n",
            "Blood sugar                 0.0\n",
            "CK-MB                       0.0\n",
            "Troponin                    0.0\n",
            "Result                      0.0\n",
            "dtype: float64 \n",
            "\n"
          ]
        }
      ],
      "source": [
        "#Find % of null values in datasets\n",
        "print(df.isna().sum()/len(df)*100, '\\n')"
      ]
    },
    {
      "cell_type": "code",
      "execution_count": 8,
      "id": "561e6bd1",
      "metadata": {
        "colab": {
          "base_uri": "https://localhost:8080/"
        },
        "id": "561e6bd1",
        "outputId": "b0d2305e-3fa6-4e40-caa9-9b25f010517e"
      },
      "outputs": [
        {
          "output_type": "stream",
          "name": "stdout",
          "text": [
            "No non-standard characters found in column 'Age' (or column is empty/contains only standard chars).\n",
            "No non-standard characters found in column 'Gender' (or column is empty/contains only standard chars).\n",
            "No non-standard characters found in column 'Heart rate' (or column is empty/contains only standard chars).\n",
            "No non-standard characters found in column 'Systolic blood pressure' (or column is empty/contains only standard chars).\n",
            "No non-standard characters found in column 'Diastolic blood pressure' (or column is empty/contains only standard chars).\n",
            "No non-standard characters found in column 'Blood sugar' (or column is empty/contains only standard chars).\n",
            "No non-standard characters found in column 'CK-MB' (or column is empty/contains only standard chars).\n",
            "No non-standard characters found in column 'Troponin' (or column is empty/contains only standard chars).\n",
            "No non-standard characters found in column 'Result' (or column is empty/contains only standard chars).\n"
          ]
        }
      ],
      "source": [
        "#find all the symbol or character in the dataset which should not be part of the column, find for all columns\n",
        "\n",
        "import string\n",
        "\n",
        "# Function to find non-standard characters in a column\n",
        "def find_non_standard_chars(df, column):\n",
        "    # Define allowed characters (letters, numbers, whitespace, common punctuation)\n",
        "    allowed_chars = string.ascii_letters + string.digits + string.whitespace + string.punctuation\n",
        "\n",
        "    # Initialize a set to store unique non-standard characters\n",
        "    non_standard_chars = set()\n",
        "\n",
        "    # Iterate through each value in the column\n",
        "    for value in df[column].dropna(): # Use dropna to skip NaN values\n",
        "        # Convert value to string (handle potential non-string data types)\n",
        "        value_str = str(value)\n",
        "        # Check each character in the string\n",
        "        for char in value_str:\n",
        "            if char not in allowed_chars:\n",
        "                non_standard_chars.add(char)\n",
        "    return non_standard_chars\n",
        "\n",
        "# Iterate through all columns in the DataFrame\n",
        "for col in df.columns:\n",
        "    non_standard_chars_in_col = find_non_standard_chars(df, col)\n",
        "    if non_standard_chars_in_col:\n",
        "        print(f\"Non-standard characters found in column '{col}': {non_standard_chars_in_col}\")\n",
        "    else:\n",
        "        print(f\"No non-standard characters found in column '{col}' (or column is empty/contains only standard chars).\")"
      ]
    }
  ],
  "metadata": {
    "kernelspec": {
      "display_name": "Python 3 (ipykernel)",
      "language": "python",
      "name": "python3"
    },
    "language_info": {
      "codemirror_mode": {
        "name": "ipython",
        "version": 3
      },
      "file_extension": ".py",
      "mimetype": "text/x-python",
      "name": "python",
      "nbconvert_exporter": "python",
      "pygments_lexer": "ipython3",
      "version": "3.12.1"
    },
    "colab": {
      "provenance": [],
      "include_colab_link": true
    }
  },
  "nbformat": 4,
  "nbformat_minor": 5
}
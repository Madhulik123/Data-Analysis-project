{
  "cells": [
    {
      "cell_type": "code",
      "execution_count": 1,
      "id": "364c8277",
      "metadata": {
        "id": "364c8277"
      },
      "outputs": [],
      "source": [
        "import pandas as pd\n",
        "import numpy as np"
      ]
    },
    {
      "cell_type": "code",
      "execution_count": 3,
      "id": "4edbdf2f",
      "metadata": {
        "id": "4edbdf2f"
      },
      "outputs": [],
      "source": [
        "df=pd.read_csv(\"Medicaldataset.csv\")"
      ]
    },
    {
      "cell_type": "code",
      "execution_count": 4,
      "id": "c8fc0dbe",
      "metadata": {
        "colab": {
          "base_uri": "https://localhost:8080/"
        },
        "id": "c8fc0dbe",
        "outputId": "4d391009-cdbb-4a87-e506-ea1317b7ebe6"
      },
      "outputs": [
        {
          "output_type": "execute_result",
          "data": {
            "text/plain": [
              "(1319, 9)"
            ]
          },
          "metadata": {},
          "execution_count": 4
        }
      ],
      "source": [
        "#shape of the dataset\n",
        "df.shape"
      ]
    },
    {
      "cell_type": "code",
      "execution_count": 5,
      "id": "0bff15af",
      "metadata": {
        "colab": {
          "base_uri": "https://localhost:8080/",
          "height": 366
        },
        "id": "0bff15af",
        "outputId": "4f5dfdf0-ccb7-46bb-bb2d-a383eeae3fe5"
      },
      "outputs": [
        {
          "output_type": "execute_result",
          "data": {
            "text/plain": [
              "Age                           int64\n",
              "Gender                        int64\n",
              "Heart rate                    int64\n",
              "Systolic blood pressure       int64\n",
              "Diastolic blood pressure      int64\n",
              "Blood sugar                 float64\n",
              "CK-MB                       float64\n",
              "Troponin                    float64\n",
              "Result                       object\n",
              "dtype: object"
            ],
            "text/html": [
              "<div>\n",
              "<style scoped>\n",
              "    .dataframe tbody tr th:only-of-type {\n",
              "        vertical-align: middle;\n",
              "    }\n",
              "\n",
              "    .dataframe tbody tr th {\n",
              "        vertical-align: top;\n",
              "    }\n",
              "\n",
              "    .dataframe thead th {\n",
              "        text-align: right;\n",
              "    }\n",
              "</style>\n",
              "<table border=\"1\" class=\"dataframe\">\n",
              "  <thead>\n",
              "    <tr style=\"text-align: right;\">\n",
              "      <th></th>\n",
              "      <th>0</th>\n",
              "    </tr>\n",
              "  </thead>\n",
              "  <tbody>\n",
              "    <tr>\n",
              "      <th>Age</th>\n",
              "      <td>int64</td>\n",
              "    </tr>\n",
              "    <tr>\n",
              "      <th>Gender</th>\n",
              "      <td>int64</td>\n",
              "    </tr>\n",
              "    <tr>\n",
              "      <th>Heart rate</th>\n",
              "      <td>int64</td>\n",
              "    </tr>\n",
              "    <tr>\n",
              "      <th>Systolic blood pressure</th>\n",
              "      <td>int64</td>\n",
              "    </tr>\n",
              "    <tr>\n",
              "      <th>Diastolic blood pressure</th>\n",
              "      <td>int64</td>\n",
              "    </tr>\n",
              "    <tr>\n",
              "      <th>Blood sugar</th>\n",
              "      <td>float64</td>\n",
              "    </tr>\n",
              "    <tr>\n",
              "      <th>CK-MB</th>\n",
              "      <td>float64</td>\n",
              "    </tr>\n",
              "    <tr>\n",
              "      <th>Troponin</th>\n",
              "      <td>float64</td>\n",
              "    </tr>\n",
              "    <tr>\n",
              "      <th>Result</th>\n",
              "      <td>object</td>\n",
              "    </tr>\n",
              "  </tbody>\n",
              "</table>\n",
              "</div><br><label><b>dtype:</b> object</label>"
            ]
          },
          "metadata": {},
          "execution_count": 5
        }
      ],
      "source": [
        "# Datatype of each column in dataframe\n",
        "df.dtypes"
      ]
    },
    {
      "cell_type": "code",
      "execution_count": 6,
      "id": "fa0b7059",
      "metadata": {
        "colab": {
          "base_uri": "https://localhost:8080/",
          "height": 366
        },
        "id": "fa0b7059",
        "outputId": "130a0f74-84a5-4600-ff65-d0cb4113ed2d"
      },
      "outputs": [
        {
          "output_type": "execute_result",
          "data": {
            "text/plain": [
              "Age                         0\n",
              "Gender                      0\n",
              "Heart rate                  0\n",
              "Systolic blood pressure     0\n",
              "Diastolic blood pressure    0\n",
              "Blood sugar                 0\n",
              "CK-MB                       0\n",
              "Troponin                    0\n",
              "Result                      0\n",
              "dtype: int64"
            ],
            "text/html": [
              "<div>\n",
              "<style scoped>\n",
              "    .dataframe tbody tr th:only-of-type {\n",
              "        vertical-align: middle;\n",
              "    }\n",
              "\n",
              "    .dataframe tbody tr th {\n",
              "        vertical-align: top;\n",
              "    }\n",
              "\n",
              "    .dataframe thead th {\n",
              "        text-align: right;\n",
              "    }\n",
              "</style>\n",
              "<table border=\"1\" class=\"dataframe\">\n",
              "  <thead>\n",
              "    <tr style=\"text-align: right;\">\n",
              "      <th></th>\n",
              "      <th>0</th>\n",
              "    </tr>\n",
              "  </thead>\n",
              "  <tbody>\n",
              "    <tr>\n",
              "      <th>Age</th>\n",
              "      <td>0</td>\n",
              "    </tr>\n",
              "    <tr>\n",
              "      <th>Gender</th>\n",
              "      <td>0</td>\n",
              "    </tr>\n",
              "    <tr>\n",
              "      <th>Heart rate</th>\n",
              "      <td>0</td>\n",
              "    </tr>\n",
              "    <tr>\n",
              "      <th>Systolic blood pressure</th>\n",
              "      <td>0</td>\n",
              "    </tr>\n",
              "    <tr>\n",
              "      <th>Diastolic blood pressure</th>\n",
              "      <td>0</td>\n",
              "    </tr>\n",
              "    <tr>\n",
              "      <th>Blood sugar</th>\n",
              "      <td>0</td>\n",
              "    </tr>\n",
              "    <tr>\n",
              "      <th>CK-MB</th>\n",
              "      <td>0</td>\n",
              "    </tr>\n",
              "    <tr>\n",
              "      <th>Troponin</th>\n",
              "      <td>0</td>\n",
              "    </tr>\n",
              "    <tr>\n",
              "      <th>Result</th>\n",
              "      <td>0</td>\n",
              "    </tr>\n",
              "  </tbody>\n",
              "</table>\n",
              "</div><br><label><b>dtype:</b> int64</label>"
            ]
          },
          "metadata": {},
          "execution_count": 6
        }
      ],
      "source": [
        "#Data Cleaning Steps\n",
        "# Missing value detection\n",
        "df.isna().sum()"
      ]
    },
    {
      "cell_type": "markdown",
      "id": "9dad470f",
      "metadata": {
        "id": "9dad470f"
      },
      "source": [
        "#There is no need to deal with data missing as there is no missing data."
      ]
    },
    {
      "cell_type": "code",
      "execution_count": 7,
      "id": "818d0c1f",
      "metadata": {
        "colab": {
          "base_uri": "https://localhost:8080/"
        },
        "id": "818d0c1f",
        "outputId": "61a6c1be-ee0e-4171-85d1-5ef57da0229d"
      },
      "outputs": [
        {
          "output_type": "stream",
          "name": "stdout",
          "text": [
            "Age                         0.0\n",
            "Gender                      0.0\n",
            "Heart rate                  0.0\n",
            "Systolic blood pressure     0.0\n",
            "Diastolic blood pressure    0.0\n",
            "Blood sugar                 0.0\n",
            "CK-MB                       0.0\n",
            "Troponin                    0.0\n",
            "Result                      0.0\n",
            "dtype: float64 \n",
            "\n"
          ]
        }
      ],
      "source": [
        "#Find % of null values in datasets\n",
        "print(df.isna().sum()/len(df)*100, '\\n')"
      ]
    },
    {
      "cell_type": "code",
      "execution_count": 8,
      "id": "561e6bd1",
      "metadata": {
        "colab": {
          "base_uri": "https://localhost:8080/"
        },
        "id": "561e6bd1",
        "outputId": "b0d2305e-3fa6-4e40-caa9-9b25f010517e"
      },
      "outputs": [
        {
          "output_type": "stream",
          "name": "stdout",
          "text": [
            "No non-standard characters found in column 'Age' (or column is empty/contains only standard chars).\n",
            "No non-standard characters found in column 'Gender' (or column is empty/contains only standard chars).\n",
            "No non-standard characters found in column 'Heart rate' (or column is empty/contains only standard chars).\n",
            "No non-standard characters found in column 'Systolic blood pressure' (or column is empty/contains only standard chars).\n",
            "No non-standard characters found in column 'Diastolic blood pressure' (or column is empty/contains only standard chars).\n",
            "No non-standard characters found in column 'Blood sugar' (or column is empty/contains only standard chars).\n",
            "No non-standard characters found in column 'CK-MB' (or column is empty/contains only standard chars).\n",
            "No non-standard characters found in column 'Troponin' (or column is empty/contains only standard chars).\n",
            "No non-standard characters found in column 'Result' (or column is empty/contains only standard chars).\n"
          ]
        }
      ],
      "source": [
        "#find all the symbol or character in the dataset which should not be part of the column, find for all columns\n",
        "\n",
        "import string\n",
        "\n",
        "# Function to find non-standard characters in a column\n",
        "def find_non_standard_chars(df, column):\n",
        "    # Define allowed characters (letters, numbers, whitespace, common punctuation)\n",
        "    allowed_chars = string.ascii_letters + string.digits + string.whitespace + string.punctuation\n",
        "\n",
        "    # Initialize a set to store unique non-standard characters\n",
        "    non_standard_chars = set()\n",
        "\n",
        "    # Iterate through each value in the column\n",
        "    for value in df[column].dropna(): # Use dropna to skip NaN values\n",
        "        # Convert value to string (handle potential non-string data types)\n",
        "        value_str = str(value)\n",
        "        # Check each character in the string\n",
        "        for char in value_str:\n",
        "            if char not in allowed_chars:\n",
        "                non_standard_chars.add(char)\n",
        "    return non_standard_chars\n",
        "\n",
        "# Iterate through all columns in the DataFrame\n",
        "for col in df.columns:\n",
        "    non_standard_chars_in_col = find_non_standard_chars(df, col)\n",
        "    if non_standard_chars_in_col:\n",
        "        print(f\"Non-standard characters found in column '{col}': {non_standard_chars_in_col}\")\n",
        "    else:\n",
        "        print(f\"No non-standard characters found in column '{col}' (or column is empty/contains only standard chars).\")"
      ]
    },
    {
      "cell_type": "code",
      "source": [
        "df.head()"
      ],
      "metadata": {
        "colab": {
          "base_uri": "https://localhost:8080/",
          "height": 206
        },
        "id": "uqihsWN5O7LS",
        "outputId": "50f79701-a56b-4249-f0e8-ddfa030e8c6f"
      },
      "id": "uqihsWN5O7LS",
      "execution_count": 9,
      "outputs": [
        {
          "output_type": "execute_result",
          "data": {
            "text/plain": [
              "   Age  Gender  Heart rate  Systolic blood pressure  Diastolic blood pressure  \\\n",
              "0   64       1          66                      160                        83   \n",
              "1   21       1          94                       98                        46   \n",
              "2   55       1          64                      160                        77   \n",
              "3   64       1          70                      120                        55   \n",
              "4   55       1          64                      112                        65   \n",
              "\n",
              "   Blood sugar  CK-MB  Troponin    Result  \n",
              "0        160.0   1.80     0.012  negative  \n",
              "1        296.0   6.75     1.060  positive  \n",
              "2        270.0   1.99     0.003  negative  \n",
              "3        270.0  13.87     0.122  positive  \n",
              "4        300.0   1.08     0.003  negative  "
            ],
            "text/html": [
              "\n",
              "  <div id=\"df-f408a199-7865-45ca-8d20-c4ba89fa2d8a\" class=\"colab-df-container\">\n",
              "    <div>\n",
              "<style scoped>\n",
              "    .dataframe tbody tr th:only-of-type {\n",
              "        vertical-align: middle;\n",
              "    }\n",
              "\n",
              "    .dataframe tbody tr th {\n",
              "        vertical-align: top;\n",
              "    }\n",
              "\n",
              "    .dataframe thead th {\n",
              "        text-align: right;\n",
              "    }\n",
              "</style>\n",
              "<table border=\"1\" class=\"dataframe\">\n",
              "  <thead>\n",
              "    <tr style=\"text-align: right;\">\n",
              "      <th></th>\n",
              "      <th>Age</th>\n",
              "      <th>Gender</th>\n",
              "      <th>Heart rate</th>\n",
              "      <th>Systolic blood pressure</th>\n",
              "      <th>Diastolic blood pressure</th>\n",
              "      <th>Blood sugar</th>\n",
              "      <th>CK-MB</th>\n",
              "      <th>Troponin</th>\n",
              "      <th>Result</th>\n",
              "    </tr>\n",
              "  </thead>\n",
              "  <tbody>\n",
              "    <tr>\n",
              "      <th>0</th>\n",
              "      <td>64</td>\n",
              "      <td>1</td>\n",
              "      <td>66</td>\n",
              "      <td>160</td>\n",
              "      <td>83</td>\n",
              "      <td>160.0</td>\n",
              "      <td>1.80</td>\n",
              "      <td>0.012</td>\n",
              "      <td>negative</td>\n",
              "    </tr>\n",
              "    <tr>\n",
              "      <th>1</th>\n",
              "      <td>21</td>\n",
              "      <td>1</td>\n",
              "      <td>94</td>\n",
              "      <td>98</td>\n",
              "      <td>46</td>\n",
              "      <td>296.0</td>\n",
              "      <td>6.75</td>\n",
              "      <td>1.060</td>\n",
              "      <td>positive</td>\n",
              "    </tr>\n",
              "    <tr>\n",
              "      <th>2</th>\n",
              "      <td>55</td>\n",
              "      <td>1</td>\n",
              "      <td>64</td>\n",
              "      <td>160</td>\n",
              "      <td>77</td>\n",
              "      <td>270.0</td>\n",
              "      <td>1.99</td>\n",
              "      <td>0.003</td>\n",
              "      <td>negative</td>\n",
              "    </tr>\n",
              "    <tr>\n",
              "      <th>3</th>\n",
              "      <td>64</td>\n",
              "      <td>1</td>\n",
              "      <td>70</td>\n",
              "      <td>120</td>\n",
              "      <td>55</td>\n",
              "      <td>270.0</td>\n",
              "      <td>13.87</td>\n",
              "      <td>0.122</td>\n",
              "      <td>positive</td>\n",
              "    </tr>\n",
              "    <tr>\n",
              "      <th>4</th>\n",
              "      <td>55</td>\n",
              "      <td>1</td>\n",
              "      <td>64</td>\n",
              "      <td>112</td>\n",
              "      <td>65</td>\n",
              "      <td>300.0</td>\n",
              "      <td>1.08</td>\n",
              "      <td>0.003</td>\n",
              "      <td>negative</td>\n",
              "    </tr>\n",
              "  </tbody>\n",
              "</table>\n",
              "</div>\n",
              "    <div class=\"colab-df-buttons\">\n",
              "\n",
              "  <div class=\"colab-df-container\">\n",
              "    <button class=\"colab-df-convert\" onclick=\"convertToInteractive('df-f408a199-7865-45ca-8d20-c4ba89fa2d8a')\"\n",
              "            title=\"Convert this dataframe to an interactive table.\"\n",
              "            style=\"display:none;\">\n",
              "\n",
              "  <svg xmlns=\"http://www.w3.org/2000/svg\" height=\"24px\" viewBox=\"0 -960 960 960\">\n",
              "    <path d=\"M120-120v-720h720v720H120Zm60-500h600v-160H180v160Zm220 220h160v-160H400v160Zm0 220h160v-160H400v160ZM180-400h160v-160H180v160Zm440 0h160v-160H620v160ZM180-180h160v-160H180v160Zm440 0h160v-160H620v160Z\"/>\n",
              "  </svg>\n",
              "    </button>\n",
              "\n",
              "  <style>\n",
              "    .colab-df-container {\n",
              "      display:flex;\n",
              "      gap: 12px;\n",
              "    }\n",
              "\n",
              "    .colab-df-convert {\n",
              "      background-color: #E8F0FE;\n",
              "      border: none;\n",
              "      border-radius: 50%;\n",
              "      cursor: pointer;\n",
              "      display: none;\n",
              "      fill: #1967D2;\n",
              "      height: 32px;\n",
              "      padding: 0 0 0 0;\n",
              "      width: 32px;\n",
              "    }\n",
              "\n",
              "    .colab-df-convert:hover {\n",
              "      background-color: #E2EBFA;\n",
              "      box-shadow: 0px 1px 2px rgba(60, 64, 67, 0.3), 0px 1px 3px 1px rgba(60, 64, 67, 0.15);\n",
              "      fill: #174EA6;\n",
              "    }\n",
              "\n",
              "    .colab-df-buttons div {\n",
              "      margin-bottom: 4px;\n",
              "    }\n",
              "\n",
              "    [theme=dark] .colab-df-convert {\n",
              "      background-color: #3B4455;\n",
              "      fill: #D2E3FC;\n",
              "    }\n",
              "\n",
              "    [theme=dark] .colab-df-convert:hover {\n",
              "      background-color: #434B5C;\n",
              "      box-shadow: 0px 1px 3px 1px rgba(0, 0, 0, 0.15);\n",
              "      filter: drop-shadow(0px 1px 2px rgba(0, 0, 0, 0.3));\n",
              "      fill: #FFFFFF;\n",
              "    }\n",
              "  </style>\n",
              "\n",
              "    <script>\n",
              "      const buttonEl =\n",
              "        document.querySelector('#df-f408a199-7865-45ca-8d20-c4ba89fa2d8a button.colab-df-convert');\n",
              "      buttonEl.style.display =\n",
              "        google.colab.kernel.accessAllowed ? 'block' : 'none';\n",
              "\n",
              "      async function convertToInteractive(key) {\n",
              "        const element = document.querySelector('#df-f408a199-7865-45ca-8d20-c4ba89fa2d8a');\n",
              "        const dataTable =\n",
              "          await google.colab.kernel.invokeFunction('convertToInteractive',\n",
              "                                                    [key], {});\n",
              "        if (!dataTable) return;\n",
              "\n",
              "        const docLinkHtml = 'Like what you see? Visit the ' +\n",
              "          '<a target=\"_blank\" href=https://colab.research.google.com/notebooks/data_table.ipynb>data table notebook</a>'\n",
              "          + ' to learn more about interactive tables.';\n",
              "        element.innerHTML = '';\n",
              "        dataTable['output_type'] = 'display_data';\n",
              "        await google.colab.output.renderOutput(dataTable, element);\n",
              "        const docLink = document.createElement('div');\n",
              "        docLink.innerHTML = docLinkHtml;\n",
              "        element.appendChild(docLink);\n",
              "      }\n",
              "    </script>\n",
              "  </div>\n",
              "\n",
              "\n",
              "    <div id=\"df-e39f1d6b-2795-41fa-8294-09d3bfc28e04\">\n",
              "      <button class=\"colab-df-quickchart\" onclick=\"quickchart('df-e39f1d6b-2795-41fa-8294-09d3bfc28e04')\"\n",
              "                title=\"Suggest charts\"\n",
              "                style=\"display:none;\">\n",
              "\n",
              "<svg xmlns=\"http://www.w3.org/2000/svg\" height=\"24px\"viewBox=\"0 0 24 24\"\n",
              "     width=\"24px\">\n",
              "    <g>\n",
              "        <path d=\"M19 3H5c-1.1 0-2 .9-2 2v14c0 1.1.9 2 2 2h14c1.1 0 2-.9 2-2V5c0-1.1-.9-2-2-2zM9 17H7v-7h2v7zm4 0h-2V7h2v10zm4 0h-2v-4h2v4z\"/>\n",
              "    </g>\n",
              "</svg>\n",
              "      </button>\n",
              "\n",
              "<style>\n",
              "  .colab-df-quickchart {\n",
              "      --bg-color: #E8F0FE;\n",
              "      --fill-color: #1967D2;\n",
              "      --hover-bg-color: #E2EBFA;\n",
              "      --hover-fill-color: #174EA6;\n",
              "      --disabled-fill-color: #AAA;\n",
              "      --disabled-bg-color: #DDD;\n",
              "  }\n",
              "\n",
              "  [theme=dark] .colab-df-quickchart {\n",
              "      --bg-color: #3B4455;\n",
              "      --fill-color: #D2E3FC;\n",
              "      --hover-bg-color: #434B5C;\n",
              "      --hover-fill-color: #FFFFFF;\n",
              "      --disabled-bg-color: #3B4455;\n",
              "      --disabled-fill-color: #666;\n",
              "  }\n",
              "\n",
              "  .colab-df-quickchart {\n",
              "    background-color: var(--bg-color);\n",
              "    border: none;\n",
              "    border-radius: 50%;\n",
              "    cursor: pointer;\n",
              "    display: none;\n",
              "    fill: var(--fill-color);\n",
              "    height: 32px;\n",
              "    padding: 0;\n",
              "    width: 32px;\n",
              "  }\n",
              "\n",
              "  .colab-df-quickchart:hover {\n",
              "    background-color: var(--hover-bg-color);\n",
              "    box-shadow: 0 1px 2px rgba(60, 64, 67, 0.3), 0 1px 3px 1px rgba(60, 64, 67, 0.15);\n",
              "    fill: var(--button-hover-fill-color);\n",
              "  }\n",
              "\n",
              "  .colab-df-quickchart-complete:disabled,\n",
              "  .colab-df-quickchart-complete:disabled:hover {\n",
              "    background-color: var(--disabled-bg-color);\n",
              "    fill: var(--disabled-fill-color);\n",
              "    box-shadow: none;\n",
              "  }\n",
              "\n",
              "  .colab-df-spinner {\n",
              "    border: 2px solid var(--fill-color);\n",
              "    border-color: transparent;\n",
              "    border-bottom-color: var(--fill-color);\n",
              "    animation:\n",
              "      spin 1s steps(1) infinite;\n",
              "  }\n",
              "\n",
              "  @keyframes spin {\n",
              "    0% {\n",
              "      border-color: transparent;\n",
              "      border-bottom-color: var(--fill-color);\n",
              "      border-left-color: var(--fill-color);\n",
              "    }\n",
              "    20% {\n",
              "      border-color: transparent;\n",
              "      border-left-color: var(--fill-color);\n",
              "      border-top-color: var(--fill-color);\n",
              "    }\n",
              "    30% {\n",
              "      border-color: transparent;\n",
              "      border-left-color: var(--fill-color);\n",
              "      border-top-color: var(--fill-color);\n",
              "      border-right-color: var(--fill-color);\n",
              "    }\n",
              "    40% {\n",
              "      border-color: transparent;\n",
              "      border-right-color: var(--fill-color);\n",
              "      border-top-color: var(--fill-color);\n",
              "    }\n",
              "    60% {\n",
              "      border-color: transparent;\n",
              "      border-right-color: var(--fill-color);\n",
              "    }\n",
              "    80% {\n",
              "      border-color: transparent;\n",
              "      border-right-color: var(--fill-color);\n",
              "      border-bottom-color: var(--fill-color);\n",
              "    }\n",
              "    90% {\n",
              "      border-color: transparent;\n",
              "      border-bottom-color: var(--fill-color);\n",
              "    }\n",
              "  }\n",
              "</style>\n",
              "\n",
              "      <script>\n",
              "        async function quickchart(key) {\n",
              "          const quickchartButtonEl =\n",
              "            document.querySelector('#' + key + ' button');\n",
              "          quickchartButtonEl.disabled = true;  // To prevent multiple clicks.\n",
              "          quickchartButtonEl.classList.add('colab-df-spinner');\n",
              "          try {\n",
              "            const charts = await google.colab.kernel.invokeFunction(\n",
              "                'suggestCharts', [key], {});\n",
              "          } catch (error) {\n",
              "            console.error('Error during call to suggestCharts:', error);\n",
              "          }\n",
              "          quickchartButtonEl.classList.remove('colab-df-spinner');\n",
              "          quickchartButtonEl.classList.add('colab-df-quickchart-complete');\n",
              "        }\n",
              "        (() => {\n",
              "          let quickchartButtonEl =\n",
              "            document.querySelector('#df-e39f1d6b-2795-41fa-8294-09d3bfc28e04 button');\n",
              "          quickchartButtonEl.style.display =\n",
              "            google.colab.kernel.accessAllowed ? 'block' : 'none';\n",
              "        })();\n",
              "      </script>\n",
              "    </div>\n",
              "\n",
              "    </div>\n",
              "  </div>\n"
            ],
            "application/vnd.google.colaboratory.intrinsic+json": {
              "type": "dataframe",
              "variable_name": "df",
              "summary": "{\n  \"name\": \"df\",\n  \"rows\": 1319,\n  \"fields\": [\n    {\n      \"column\": \"Age\",\n      \"properties\": {\n        \"dtype\": \"number\",\n        \"std\": 13,\n        \"min\": 14,\n        \"max\": 103,\n        \"num_unique_values\": 75,\n        \"samples\": [\n          32,\n          81,\n          61\n        ],\n        \"semantic_type\": \"\",\n        \"description\": \"\"\n      }\n    },\n    {\n      \"column\": \"Gender\",\n      \"properties\": {\n        \"dtype\": \"number\",\n        \"std\": 0,\n        \"min\": 0,\n        \"max\": 1,\n        \"num_unique_values\": 2,\n        \"samples\": [\n          0,\n          1\n        ],\n        \"semantic_type\": \"\",\n        \"description\": \"\"\n      }\n    },\n    {\n      \"column\": \"Heart rate\",\n      \"properties\": {\n        \"dtype\": \"number\",\n        \"std\": 51,\n        \"min\": 20,\n        \"max\": 1111,\n        \"num_unique_values\": 79,\n        \"samples\": [\n          59,\n          66\n        ],\n        \"semantic_type\": \"\",\n        \"description\": \"\"\n      }\n    },\n    {\n      \"column\": \"Systolic blood pressure\",\n      \"properties\": {\n        \"dtype\": \"number\",\n        \"std\": 26,\n        \"min\": 42,\n        \"max\": 223,\n        \"num_unique_values\": 116,\n        \"samples\": [\n          93,\n          179\n        ],\n        \"semantic_type\": \"\",\n        \"description\": \"\"\n      }\n    },\n    {\n      \"column\": \"Diastolic blood pressure\",\n      \"properties\": {\n        \"dtype\": \"number\",\n        \"std\": 14,\n        \"min\": 38,\n        \"max\": 154,\n        \"num_unique_values\": 73,\n        \"samples\": [\n          65,\n          41\n        ],\n        \"semantic_type\": \"\",\n        \"description\": \"\"\n      }\n    },\n    {\n      \"column\": \"Blood sugar\",\n      \"properties\": {\n        \"dtype\": \"number\",\n        \"std\": 74.92304465780165,\n        \"min\": 35.0,\n        \"max\": 541.0,\n        \"num_unique_values\": 244,\n        \"samples\": [\n          166.0,\n          135.0\n        ],\n        \"semantic_type\": \"\",\n        \"description\": \"\"\n      }\n    },\n    {\n      \"column\": \"CK-MB\",\n      \"properties\": {\n        \"dtype\": \"number\",\n        \"std\": 46.32708334398735,\n        \"min\": 0.321,\n        \"max\": 300.0,\n        \"num_unique_values\": 700,\n        \"samples\": [\n          286.9,\n          0.457\n        ],\n        \"semantic_type\": \"\",\n        \"description\": \"\"\n      }\n    },\n    {\n      \"column\": \"Troponin\",\n      \"properties\": {\n        \"dtype\": \"number\",\n        \"std\": 1.1545676649221834,\n        \"min\": 0.001,\n        \"max\": 10.3,\n        \"num_unique_values\": 352,\n        \"samples\": [\n          1.44,\n          0.431\n        ],\n        \"semantic_type\": \"\",\n        \"description\": \"\"\n      }\n    },\n    {\n      \"column\": \"Result\",\n      \"properties\": {\n        \"dtype\": \"category\",\n        \"num_unique_values\": 2,\n        \"samples\": [\n          \"positive\",\n          \"negative\"\n        ],\n        \"semantic_type\": \"\",\n        \"description\": \"\"\n      }\n    }\n  ]\n}"
            }
          },
          "metadata": {},
          "execution_count": 9
        }
      ]
    },
    {
      "cell_type": "code",
      "source": [
        "#Questions to Answers\n",
        "#1. what percentage of people has heart attack risk?\n",
        "#2.how this risk is distributed in male and female?\n",
        "#3.what is the age group which most patient are falling for heart attack?\n",
        "#4.what is the avg heart rate,bp,blood suger for positive patient\n",
        "#5. what is avg CKMB and troponin for positive patient?\n",
        "\n",
        "#Recomendation\n",
        "#How many people are in the border for the reaching health risk.\n",
        "#1.\n"
      ],
      "metadata": {
        "id": "17Q-urJKPbpK"
      },
      "id": "17Q-urJKPbpK",
      "execution_count": null,
      "outputs": []
    },
    {
      "cell_type": "code",
      "source": [
        "result_count=df[\"Result\"].value_counts()\n",
        "overall=result_count.sum()\n",
        "\n",
        "positive_percentage = (result_count[\"positive\"] / overall) * 100\n",
        "negative_percentage = (result_count[\"negative\"] / overall) * 100\n",
        "\n",
        "print(f\"Percentage of positive results: {positive_percentage:.2f}%\")\n",
        "print(f\"Percentage of negative results: {negative_percentage:.2f}%\")"
      ],
      "metadata": {
        "colab": {
          "base_uri": "https://localhost:8080/"
        },
        "id": "qCiOebFuTC1F",
        "outputId": "0ed5dacc-3b0d-45d3-cc42-0954ac185384"
      },
      "id": "qCiOebFuTC1F",
      "execution_count": 24,
      "outputs": [
        {
          "output_type": "stream",
          "name": "stdout",
          "text": [
            "Percentage of positive results: 61.41%\n",
            "Percentage of negative results: 38.59%\n"
          ]
        }
      ]
    },
    {
      "cell_type": "code",
      "source": [
        "\n",
        "\n",
        "import matplotlib.pyplot as plt\n",
        "\n",
        "labels = ['Positive', 'Negative']\n",
        "sizes = [positive_percentage, negative_percentage]\n",
        "colors = ['saddlebrown', 'darkorange']\n",
        "\n",
        "fig1, ax1 = plt.subplots()\n",
        "wedges, texts, autotexts = ax1.pie(sizes, colors=colors, autopct='%1.1f%%',\n",
        "                                   startangle=90)\n",
        "\n",
        "# Draw circle\n",
        "centre_circle = plt.Circle((0,0),0.70,fc='white')\n",
        "fig = plt.gcf()\n",
        "fig.gca().add_artist(centre_circle)\n",
        "\n",
        "ax1.axis('equal')  # Equal aspect ratio ensures that pie is drawn as a circle.\n",
        "\n",
        "plt.title('Distribution of Results')\n",
        "plt.legend(wedges, labels,\n",
        "           title=\"Results\",\n",
        "           loc=\"center left\",\n",
        "           bbox_to_anchor=(1, 0, 0.5, 1))\n",
        "\n",
        "plt.show()"
      ],
      "metadata": {
        "colab": {
          "base_uri": "https://localhost:8080/",
          "height": 428
        },
        "id": "8KFaxsaAT3UT",
        "outputId": "9de80e00-5448-4732-dfea-7885eb4ae13e"
      },
      "id": "8KFaxsaAT3UT",
      "execution_count": 36,
      "outputs": [
        {
          "output_type": "display_data",
          "data": {
            "text/plain": [
              "<Figure size 640x480 with 1 Axes>"
            ],
            "image/png": "[encoded data removed]"
          },
          "metadata": {}
        }
      ]
    }
  ],
  "metadata": {
    "kernelspec": {
      "display_name": "Python 3 (ipykernel)",
      "language": "python",
      "name": "python3"
    },
    "language_info": {
      "codemirror_mode": {
        "name": "ipython",
        "version": 3
      },
      "file_extension": ".py",
      "mimetype": "text/x-python",
      "name": "python",
      "nbconvert_exporter": "python",
      "pygments_lexer": "ipython3",
      "version": "3.12.1"
    },
    "colab": {
      "provenance": []
    }
  },
  "nbformat": 4,
  "nbformat_minor": 5
}
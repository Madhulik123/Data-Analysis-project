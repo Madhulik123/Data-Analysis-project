{
 "cells": [
  {
   "cell_type": "code",
   "execution_count": 15,
   "id": "364c8277",
   "metadata": {},
   "outputs": [],
   "source": [
    "import pandas as pd\n",
    "import numpy as np"
   ]
  },
  {
   "cell_type": "code",
   "execution_count": 16,
   "id": "4edbdf2f",
   "metadata": {},
   "outputs": [],
   "source": [
    "df=pd.read_csv(\"Medicaldataset.csv\")"
   ]
  },
  {
   "cell_type": "code",
   "execution_count": 17,
   "id": "c8fc0dbe",
   "metadata": {},
   "outputs": [
    {
     "data": {
      "text/plain": [
       "(1319, 9)"
      ]
     },
     "execution_count": 17,
     "metadata": {},
     "output_type": "execute_result"
    }
   ],
   "source": [
    "#shape of the dataset\n",
    "df.shape"
   ]
  },
  {
   "cell_type": "code",
   "execution_count": 18,
   "id": "0bff15af",
   "metadata": {},
   "outputs": [
    {
     "data": {
      "text/plain": [
       "Age                           int64\n",
       "Gender                        int64\n",
       "Heart rate                    int64\n",
       "Systolic blood pressure       int64\n",
       "Diastolic blood pressure      int64\n",
       "Blood sugar                 float64\n",
       "CK-MB                       float64\n",
       "Troponin                    float64\n",
       "Result                       object\n",
       "dtype: object"
      ]
     },
     "execution_count": 18,
     "metadata": {},
     "output_type": "execute_result"
    }
   ],
   "source": [
    "# Datatype of each column in dataframe\n",
    "df.dtypes"
   ]
  },
  {
   "cell_type": "code",
   "execution_count": 19,
   "id": "fa0b7059",
   "metadata": {},
   "outputs": [
    {
     "data": {
      "text/plain": [
       "Age                         0\n",
       "Gender                      0\n",
       "Heart rate                  0\n",
       "Systolic blood pressure     0\n",
       "Diastolic blood pressure    0\n",
       "Blood sugar                 0\n",
       "CK-MB                       0\n",
       "Troponin                    0\n",
       "Result                      0\n",
       "dtype: int64"
      ]
     },
     "execution_count": 19,
     "metadata": {},
     "output_type": "execute_result"
    }
   ],
   "source": [
    "#Data Cleaning Steps\n",
    "# Missing value detection\n",
    "df.isna().sum()"
   ]
  },
  {
   "cell_type": "markdown",
   "id": "9dad470f",
   "metadata": {},
   "source": [
    "#There is no need to deal with data missing as there is no missing data."
   ]
  },
  {
   "cell_type": "code",
   "execution_count": 20,
   "id": "818d0c1f",
   "metadata": {},
   "outputs": [
    {
     "name": "stdout",
     "output_type": "stream",
     "text": [
      "Age                         0.0\n",
      "Gender                      0.0\n",
      "Heart rate                  0.0\n",
      "Systolic blood pressure     0.0\n",
      "Diastolic blood pressure    0.0\n",
      "Blood sugar                 0.0\n",
      "CK-MB                       0.0\n",
      "Troponin                    0.0\n",
      "Result                      0.0\n",
      "dtype: float64 \n",
      "\n"
     ]
    }
   ],
   "source": [
    "#Find % of null values in datasets\n",
    "print(df.isna().sum()/len(df)*100, '\\n')"
   ]
  },
  {
   "cell_type": "code",
   "execution_count": null,
   "id": "561e6bd1",
   "metadata": {},
   "outputs": [],
   "source": []
  }
 ],
 "metadata": {
  "kernelspec": {
   "display_name": "Python 3 (ipykernel)",
   "language": "python",
   "name": "python3"
  },
  "language_info": {
   "codemirror_mode": {
    "name": "ipython",
    "version": 3
   },
   "file_extension": ".py",
   "mimetype": "text/x-python",
   "name": "python",
   "nbconvert_exporter": "python",
   "pygments_lexer": "ipython3",
   "version": "3.12.1"
  }
 },
 "nbformat": 4,
 "nbformat_minor": 5
}
